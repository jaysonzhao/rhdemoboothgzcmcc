{
 "cells": [
  {
   "cell_type": "code",
   "execution_count": 5,
   "metadata": {},
   "outputs": [],
   "source": [
    "from kafka import KafkaProducer\n",
    "\n",
    "in_file = open(\"./dataresult12316079millinletTemp.csv\", \"rb\") # opening for [r]eading as [b]inary\n",
    "data = in_file.read() # if you only wanted to read 512 bytes, do .read(512)\n",
    "in_file.close()\n",
    "producer = KafkaProducer(bootstrap_servers='my-cluster-kafka-brokers:9092')\n",
    "future = producer.send('streamdata', data)\n",
    "result = future.get(timeout=120)"
   ]
  },
  {
   "cell_type": "code",
   "execution_count": 4,
   "metadata": {},
   "outputs": [
    {
     "name": "stdout",
     "output_type": "stream",
     "text": [
      "RecordMetadata(topic='streamdata', partition=0, topic_partition=TopicPartition(topic='streamdata', partition=0), offset=9, timestamp=-1, checksum=721045467, serialized_key_size=-1, serialized_value_size=142014)\n"
     ]
    }
   ],
   "source": [
    "print(result)"
   ]
  },
  {
   "cell_type": "code",
   "execution_count": null,
   "metadata": {},
   "outputs": [],
   "source": []
  },
  {
   "cell_type": "code",
   "execution_count": null,
   "metadata": {},
   "outputs": [],
   "source": []
  }
 ],
 "metadata": {
  "kernelspec": {
   "display_name": "Python 3",
   "language": "python",
   "name": "python3"
  },
  "language_info": {
   "codemirror_mode": {
    "name": "ipython",
    "version": 3
   },
   "file_extension": ".py",
   "mimetype": "text/x-python",
   "name": "python",
   "nbconvert_exporter": "python",
   "pygments_lexer": "ipython3",
   "version": "3.6.3"
  }
 },
 "nbformat": 4,
 "nbformat_minor": 2
}
