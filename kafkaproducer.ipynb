{
 "cells": [
  {
   "cell_type": "code",
   "execution_count": 12,
   "metadata": {},
   "outputs": [],
   "source": [
    "from kafka import KafkaProducer\n",
    "\n",
    "in_file = open(\"./rhdemoboothgzcmcc/dataresult12316079millinletTemp.csv\", \"rb\") # opening for [r]eading as [b]inary\n",
    "data = in_file.read() # if you only wanted to read 512 bytes, do .read(512)\n",
    "in_file.close()\n",
    "producer = KafkaProducer(bootstrap_servers='my-cluster-kafka-brokers:9092')\n",
    "future = producer.send('foobar', data)\n",
    "result = future.get(timeout=120)"
   ]
  },
  {
   "cell_type": "code",
   "execution_count": null,
   "metadata": {},
   "outputs": [],
   "source": []
  }
 ],
 "metadata": {
  "kernelspec": {
   "display_name": "Python 3",
   "language": "python",
   "name": "python3"
  },
  "language_info": {
   "codemirror_mode": {
    "name": "ipython",
    "version": 3
   },
   "file_extension": ".py",
   "mimetype": "text/x-python",
   "name": "python",
   "nbconvert_exporter": "python",
   "pygments_lexer": "ipython3",
   "version": "3.6.3"
  }
 },
 "nbformat": 4,
 "nbformat_minor": 2
}
